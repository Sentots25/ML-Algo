{
  "cells": [
    {
      "cell_type": "markdown",
      "metadata": {
        "id": "view-in-github",
        "colab_type": "text"
      },
      "source": [
        "<a href=\"https://colab.research.google.com/github/Sentots25/ML-Algo/blob/main/Welcome_To_Colab.ipynb\" target=\"_parent\"><img src=\"https://colab.research.google.com/assets/colab-badge.svg\" alt=\"Open In Colab\"/></a>"
      ]
    },
    {
      "source": [
        "# Import library\n",
        "import pandas as pd\n",
        "import numpy as np\n",
        "from sklearn.model_selection import train_test_split\n",
        "from sklearn.ensemble import RandomForestClassifier\n",
        "from sklearn.metrics import classification_report\n",
        "import pickle\n",
        "\n",
        "# Load dataset (contoh menggunakan Iris dataset)\n",
        "from sklearn.datasets import load_iris\n",
        "iris = load_iris()\n",
        "data = pd.read_csv(\"Gender Inequality Index.csv\")\n",
        "\n",
        "# **Check the actual column names in your DataFrame**\n",
        "print(data.columns)\n",
        "\n",
        "# **Replace 'Actual_Target_Column_Name' with the actual name of your target column from the printed list**\n",
        "X = data.drop(\"Human Development Groups\", axis=1)\n",
        "y = data[\"Human Development Groups\"]\n",
        "\n",
        "# ----> Convert categorical features to numerical using one-hot encoding\n",
        "# ----> Handle NaN values by filling them with the most frequent value for each column\n",
        "X = pd.get_dummies(X)\n",
        "for column in X.columns:\n",
        "    X[column] = X[column].fillna(X[column].mode()[0]) # Fill NaNs with the mode\n",
        "\n",
        "# Split dataset menjadi training dan testing set\n",
        "X_train, X_test, y_train, y_test = train_test_split(X, y, test_size=0.2, random_state=42)\n",
        "\n",
        "# ----> Handle NaN values in the target variable by dropping rows with NaNs\n",
        "# ----> This assumes that NaN values in the target are not informative\n",
        "X_train, y_train = X_train[y_train.notna()], y_train[y_train.notna()]\n",
        "X_test, y_test = X_test[y_test.notna()], y_test[y_test.notna()]\n",
        "\n",
        "# Inisialisasi dan latih model\n",
        "model = RandomForestClassifier(random_state=42)\n",
        "model.fit(X_train, y_train)\n",
        "\n",
        "# Evaluasi model\n",
        "y_pred = model.predict(X_test)\n",
        "print(\"Classification Report:\")\n",
        "print(classification_report(y_test, y_pred))\n",
        "\n",
        "# Simpan model ke file\n",
        "with open('model.pkl', 'wb') as f:\n",
        "    pickle.dump(model, f)\n",
        "\n",
        "print(\"Model berhasil disimpan ke 'model.pkl'\")"
      ],
      "cell_type": "code",
      "metadata": {
        "colab": {
          "base_uri": "https://localhost:8080/"
        },
        "id": "puh3Gz4qdVkt",
        "outputId": "59a1e4f6-a0c2-4f71-c616-95c2967f8796"
      },
      "execution_count": 46,
      "outputs": [
        {
          "output_type": "stream",
          "name": "stdout",
          "text": [
            "Index(['ISO3', 'Country', 'Continent', 'Hemisphere',\n",
            "       'Human Development Groups', 'UNDP Developing Regions',\n",
            "       'HDI Rank (2021)', 'GII Rank (2021)', 'Gender Inequality Index (1990)',\n",
            "       'Gender Inequality Index (1991)', 'Gender Inequality Index (1992)',\n",
            "       'Gender Inequality Index (1993)', 'Gender Inequality Index (1994)',\n",
            "       'Gender Inequality Index (1995)', 'Gender Inequality Index (1996)',\n",
            "       'Gender Inequality Index (1997)', 'Gender Inequality Index (1998)',\n",
            "       'Gender Inequality Index (1999)', 'Gender Inequality Index (2000)',\n",
            "       'Gender Inequality Index (2001)', 'Gender Inequality Index (2002)',\n",
            "       'Gender Inequality Index (2003)', 'Gender Inequality Index (2004)',\n",
            "       'Gender Inequality Index (2005)', 'Gender Inequality Index (2006)',\n",
            "       'Gender Inequality Index (2007)', 'Gender Inequality Index (2008)',\n",
            "       'Gender Inequality Index (2009)', 'Gender Inequality Index (2010)',\n",
            "       'Gender Inequality Index (2011)', 'Gender Inequality Index (2012)',\n",
            "       'Gender Inequality Index (2013)', 'Gender Inequality Index (2014)',\n",
            "       'Gender Inequality Index (2015)', 'Gender Inequality Index (2016)',\n",
            "       'Gender Inequality Index (2017)', 'Gender Inequality Index (2018)',\n",
            "       'Gender Inequality Index (2019)', 'Gender Inequality Index (2020)',\n",
            "       'Gender Inequality Index (2021)'],\n",
            "      dtype='object')\n",
            "Classification Report:\n",
            "              precision    recall  f1-score   support\n",
            "\n",
            "        High       0.64      0.90      0.75        10\n",
            "         Low       1.00      0.89      0.94         9\n",
            "      Medium       1.00      0.56      0.71         9\n",
            "   Very High       0.91      1.00      0.95        10\n",
            "\n",
            "    accuracy                           0.84        38\n",
            "   macro avg       0.89      0.84      0.84        38\n",
            "weighted avg       0.88      0.84      0.84        38\n",
            "\n",
            "Model berhasil disimpan ke 'model.pkl'\n"
          ]
        }
      ]
    },
    {
      "cell_type": "code",
      "source": [],
      "metadata": {
        "id": "eT-1j-hcf_7q"
      },
      "execution_count": null,
      "outputs": []
    }
  ],
  "metadata": {
    "colab": {
      "name": "Welcome To Colab",
      "provenance": [],
      "include_colab_link": true
    },
    "kernelspec": {
      "display_name": "Python 3",
      "name": "python3"
    }
  },
  "nbformat": 4,
  "nbformat_minor": 0
}